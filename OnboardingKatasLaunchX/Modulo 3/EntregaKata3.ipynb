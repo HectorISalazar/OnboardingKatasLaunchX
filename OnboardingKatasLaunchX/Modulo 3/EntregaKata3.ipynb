{
 "cells": [
  {
   "cell_type": "markdown",
   "metadata": {},
   "source": [
    "## Ejercicio 1"
   ]
  },
  {
   "cell_type": "code",
   "execution_count": 10,
   "metadata": {},
   "outputs": [
    {
     "name": "stdout",
     "output_type": "stream",
     "text": [
      "la velocidad del asteroide es: 49 km/s\n",
      "El asteroide es peligroso\n"
     ]
    }
   ],
   "source": [
    "vel_as = input(\"Velocidad del asteroide: \")\n",
    "print(\"la velocidad del asteroide es: \" + str(vel_as) + \" km/s\")\n",
    "if int(vel_as) > 25:\n",
    "    print(\"El asteroide es peligroso\")\n",
    "else:\n",
    "    print(\"El asteoride no es peligroso\")\n"
   ]
  },
  {
   "cell_type": "markdown",
   "metadata": {},
   "source": [
    "## Ejercicio 2"
   ]
  },
  {
   "cell_type": "code",
   "execution_count": 12,
   "metadata": {},
   "outputs": [
    {
     "name": "stdout",
     "output_type": "stream",
     "text": [
      "la velocidad del asteroide es: 49 km/s\n",
      "No se puede ver un asteroide en el cielo\n"
     ]
    }
   ],
   "source": [
    "vel_as1 = input(\"Velocidad del asteroide: \")\n",
    "print(\"la velocidad del asteroide es: \" + str(vel_as) + \" km/s\")\n",
    "if int(vel_as1) >= 20:\n",
    "    print(\"Se puede ver un asteroide en el cielo\")\n",
    "elif int(vel_as1) < 20:\n",
    "    print(\"No se puede ver un asteroide en el cielo\")\n"
   ]
  },
  {
   "cell_type": "markdown",
   "metadata": {},
   "source": [
    "## Ejercicio 3\n",
    "En este ejercicio, aprenderás información más matizada sobre cuándo los asteroides representan un peligro para la Tierra, y utilizarás esa información para mejorar nuestro sistema de advertencia. Aquí está la nueva información que necesitas saber:\n",
    "\n",
    "Los asteroides de menos de 25 metros en su dimensión más grande probablemente se quemarán a medida que entren en la atmósfera de la Tierra.\n",
    "\n",
    "Si una pieza de un asteroide que es más grande que 25 metros pero más pequeña que 1000 metros golpeara la Tierra, causaría mucho daño.\n",
    "También discutimos en el ejercicio anterior que:\n",
    "\n",
    "La velocidad del asteroide varía en función de lo cerca que esté del sol, y cualquier velocidad superior a 25 kilómetros por segundo (km/s) merece una advertencia.\n",
    "\n",
    "Si un asteroide entra en la atmósfera de la Tierra a una velocidad mayor o igual a 20 km/s, a veces produce un rayo de luz que se puede ver desde la Tierra.\n",
    "\n",
    "Usando toda esta información, escribe un programa que emita la advertencia o información correcta a la gente de la Tierra, según la velocidad y el tamaño de un asteroide. Utiliza instrucciones if, else, y elif, así como los operadores and y or."
   ]
  },
  {
   "cell_type": "code",
   "execution_count": 24,
   "metadata": {},
   "outputs": [
    {
     "name": "stdout",
     "output_type": "stream",
     "text": [
      "La velocidad del asteoride es: 26 km/s\n",
      "La dimensión del asteroide es: 28 m\n",
      "El asteroide puede causar daños severos y se puede ver\n"
     ]
    }
   ],
   "source": [
    "vel_ast = input(\"Velocidad del asteroide: \")\n",
    "print(\"La velocidad del asteoride es: \" + str(vel_ast) + \" km/s\")\n",
    "dim_ast = input(\"Dimensión del asteroide: \")\n",
    "print(\"La dimensión del asteroide es: \" + str(dim_ast) + \" m\")\n",
    "if int(vel_ast) >= 25 and int(dim_ast) >= 25:\n",
    "    print(\"El asteroide puede causar daños severos y se puede ver\")\n",
    "elif int(dim_ast) < 25 and int(vel_ast) > 20:\n",
    "    print(\"El asteroide no causará problemas y se puede ver\")\n",
    "elif int(vel_ast) < 25 and int(vel_ast) > 20:\n",
    "    print(\"El asteroide no causará daños y se puede ver\")\n",
    "else:\n",
    "    print(\"El asteoride no causará daños y no se puede ver\")\n"
   ]
  },
  {
   "cell_type": "code",
   "execution_count": null,
   "metadata": {},
   "outputs": [],
   "source": []
  }
 ],
 "metadata": {
  "interpreter": {
   "hash": "d616ea4184afbc6d82e3e193c139d1e65c814d01c9cd2c59d4d3424718eaf4d1"
  },
  "kernelspec": {
   "display_name": "Python 3.10.2 64-bit",
   "language": "python",
   "name": "python3"
  },
  "language_info": {
   "codemirror_mode": {
    "name": "ipython",
    "version": 3
   },
   "file_extension": ".py",
   "mimetype": "text/x-python",
   "name": "python",
   "nbconvert_exporter": "python",
   "pygments_lexer": "ipython3",
   "version": "3.10.2"
  },
  "orig_nbformat": 4
 },
 "nbformat": 4,
 "nbformat_minor": 2
}
